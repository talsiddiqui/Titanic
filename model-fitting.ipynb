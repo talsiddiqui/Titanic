{
 "cells": [
  {
   "cell_type": "markdown",
   "metadata": {},
   "source": [
    "# Supervised Learning Decision Tree Classification Model Fitting"
   ]
  },
  {
   "cell_type": "markdown",
   "metadata": {},
   "source": [
    "In this notebook, I will be applying the following techniques to predict Titanic survival:\n",
    "\n",
    "1. Decision Tree Classification (with default settings)\n",
    "2. Decision Tree Classification with the following optimal hyperparameters identified by using 5-fold Cross Validation\n",
    "  * Max Depth\n",
    "  * Min Samples Split\n",
    "  * Min Samples Leaf\n",
    "  * Max Features\n",
    "3. Random Forest\n",
    "\n",
    "Let's start by importing the necessary libraries."
   ]
  },
  {
   "cell_type": "code",
   "execution_count": 1,
   "metadata": {},
   "outputs": [],
   "source": [
    "import pandas as pd\n",
    "import matplotlib.pyplot as plt\n",
    "%matplotlib inline\n",
    "import numpy as np"
   ]
  },
  {
   "cell_type": "markdown",
   "metadata": {},
   "source": [
    "Now import the train and test data sets. Take a quick glance at the data and get summary statistics for our variables."
   ]
  },
  {
   "cell_type": "code",
   "execution_count": 2,
   "metadata": {},
   "outputs": [
    {
     "data": {
      "text/html": [
       "<div>\n",
       "<style scoped>\n",
       "    .dataframe tbody tr th:only-of-type {\n",
       "        vertical-align: middle;\n",
       "    }\n",
       "\n",
       "    .dataframe tbody tr th {\n",
       "        vertical-align: top;\n",
       "    }\n",
       "\n",
       "    .dataframe thead th {\n",
       "        text-align: right;\n",
       "    }\n",
       "</style>\n",
       "<table border=\"1\" class=\"dataframe\">\n",
       "  <thead>\n",
       "    <tr style=\"text-align: right;\">\n",
       "      <th></th>\n",
       "      <th>Survived</th>\n",
       "      <th>Pclass</th>\n",
       "      <th>LastName</th>\n",
       "      <th>Title</th>\n",
       "      <th>Sex</th>\n",
       "      <th>Age</th>\n",
       "      <th>SibSp</th>\n",
       "      <th>Parch</th>\n",
       "      <th>Fare</th>\n",
       "      <th>Embarked</th>\n",
       "      <th>TicketNumber</th>\n",
       "      <th>OtherName</th>\n",
       "    </tr>\n",
       "    <tr>\n",
       "      <th>PassengerId</th>\n",
       "      <th></th>\n",
       "      <th></th>\n",
       "      <th></th>\n",
       "      <th></th>\n",
       "      <th></th>\n",
       "      <th></th>\n",
       "      <th></th>\n",
       "      <th></th>\n",
       "      <th></th>\n",
       "      <th></th>\n",
       "      <th></th>\n",
       "      <th></th>\n",
       "    </tr>\n",
       "  </thead>\n",
       "  <tbody>\n",
       "    <tr>\n",
       "      <th>1</th>\n",
       "      <td>0</td>\n",
       "      <td>3</td>\n",
       "      <td>1</td>\n",
       "      <td>1</td>\n",
       "      <td>1</td>\n",
       "      <td>22.0</td>\n",
       "      <td>1</td>\n",
       "      <td>0</td>\n",
       "      <td>7.2500</td>\n",
       "      <td>1</td>\n",
       "      <td>521171</td>\n",
       "      <td>0</td>\n",
       "    </tr>\n",
       "    <tr>\n",
       "      <th>2</th>\n",
       "      <td>1</td>\n",
       "      <td>1</td>\n",
       "      <td>2</td>\n",
       "      <td>2</td>\n",
       "      <td>2</td>\n",
       "      <td>38.0</td>\n",
       "      <td>1</td>\n",
       "      <td>0</td>\n",
       "      <td>71.2833</td>\n",
       "      <td>2</td>\n",
       "      <td>17599</td>\n",
       "      <td>1</td>\n",
       "    </tr>\n",
       "    <tr>\n",
       "      <th>3</th>\n",
       "      <td>1</td>\n",
       "      <td>3</td>\n",
       "      <td>3</td>\n",
       "      <td>3</td>\n",
       "      <td>2</td>\n",
       "      <td>26.0</td>\n",
       "      <td>0</td>\n",
       "      <td>0</td>\n",
       "      <td>7.9250</td>\n",
       "      <td>1</td>\n",
       "      <td>23101282</td>\n",
       "      <td>0</td>\n",
       "    </tr>\n",
       "    <tr>\n",
       "      <th>4</th>\n",
       "      <td>1</td>\n",
       "      <td>1</td>\n",
       "      <td>4</td>\n",
       "      <td>2</td>\n",
       "      <td>2</td>\n",
       "      <td>35.0</td>\n",
       "      <td>1</td>\n",
       "      <td>0</td>\n",
       "      <td>53.1000</td>\n",
       "      <td>1</td>\n",
       "      <td>113803</td>\n",
       "      <td>1</td>\n",
       "    </tr>\n",
       "    <tr>\n",
       "      <th>5</th>\n",
       "      <td>0</td>\n",
       "      <td>3</td>\n",
       "      <td>5</td>\n",
       "      <td>1</td>\n",
       "      <td>1</td>\n",
       "      <td>35.0</td>\n",
       "      <td>0</td>\n",
       "      <td>0</td>\n",
       "      <td>8.0500</td>\n",
       "      <td>1</td>\n",
       "      <td>373450</td>\n",
       "      <td>0</td>\n",
       "    </tr>\n",
       "  </tbody>\n",
       "</table>\n",
       "</div>"
      ],
      "text/plain": [
       "             Survived  Pclass  LastName  Title  Sex   Age  SibSp  Parch  \\\n",
       "PassengerId                                                               \n",
       "1                   0       3         1      1    1  22.0      1      0   \n",
       "2                   1       1         2      2    2  38.0      1      0   \n",
       "3                   1       3         3      3    2  26.0      0      0   \n",
       "4                   1       1         4      2    2  35.0      1      0   \n",
       "5                   0       3         5      1    1  35.0      0      0   \n",
       "\n",
       "                Fare  Embarked  TicketNumber  OtherName  \n",
       "PassengerId                                              \n",
       "1             7.2500         1        521171          0  \n",
       "2            71.2833         2         17599          1  \n",
       "3             7.9250         1      23101282          0  \n",
       "4            53.1000         1        113803          1  \n",
       "5             8.0500         1        373450          0  "
      ]
     },
     "execution_count": 2,
     "metadata": {},
     "output_type": "execute_result"
    }
   ],
   "source": [
    "train = pd.read_csv(\"data/new_train.csv\", index_col=0)\n",
    "train.head(5)"
   ]
  },
  {
   "cell_type": "code",
   "execution_count": 3,
   "metadata": {},
   "outputs": [
    {
     "data": {
      "text/html": [
       "<div>\n",
       "<style scoped>\n",
       "    .dataframe tbody tr th:only-of-type {\n",
       "        vertical-align: middle;\n",
       "    }\n",
       "\n",
       "    .dataframe tbody tr th {\n",
       "        vertical-align: top;\n",
       "    }\n",
       "\n",
       "    .dataframe thead th {\n",
       "        text-align: right;\n",
       "    }\n",
       "</style>\n",
       "<table border=\"1\" class=\"dataframe\">\n",
       "  <thead>\n",
       "    <tr style=\"text-align: right;\">\n",
       "      <th></th>\n",
       "      <th>Survived</th>\n",
       "      <th>Pclass</th>\n",
       "      <th>LastName</th>\n",
       "      <th>Title</th>\n",
       "      <th>Sex</th>\n",
       "      <th>Age</th>\n",
       "      <th>SibSp</th>\n",
       "      <th>Parch</th>\n",
       "      <th>Fare</th>\n",
       "      <th>Embarked</th>\n",
       "      <th>TicketNumber</th>\n",
       "      <th>OtherName</th>\n",
       "    </tr>\n",
       "  </thead>\n",
       "  <tbody>\n",
       "    <tr>\n",
       "      <th>count</th>\n",
       "      <td>891.000000</td>\n",
       "      <td>891.000000</td>\n",
       "      <td>891.000000</td>\n",
       "      <td>891.000000</td>\n",
       "      <td>891.000000</td>\n",
       "      <td>891.000000</td>\n",
       "      <td>891.000000</td>\n",
       "      <td>891.000000</td>\n",
       "      <td>891.000000</td>\n",
       "      <td>891.000000</td>\n",
       "      <td>8.910000e+02</td>\n",
       "      <td>891.000000</td>\n",
       "    </tr>\n",
       "    <tr>\n",
       "      <th>mean</th>\n",
       "      <td>0.383838</td>\n",
       "      <td>2.308642</td>\n",
       "      <td>297.608305</td>\n",
       "      <td>1.936027</td>\n",
       "      <td>1.352413</td>\n",
       "      <td>29.581787</td>\n",
       "      <td>0.523008</td>\n",
       "      <td>0.381594</td>\n",
       "      <td>32.204208</td>\n",
       "      <td>1.361392</td>\n",
       "      <td>7.546827e+05</td>\n",
       "      <td>0.159371</td>\n",
       "    </tr>\n",
       "    <tr>\n",
       "      <th>std</th>\n",
       "      <td>0.486592</td>\n",
       "      <td>0.836071</td>\n",
       "      <td>194.444043</td>\n",
       "      <td>1.725341</td>\n",
       "      <td>0.477990</td>\n",
       "      <td>13.573092</td>\n",
       "      <td>1.102743</td>\n",
       "      <td>0.806057</td>\n",
       "      <td>49.693429</td>\n",
       "      <td>0.635673</td>\n",
       "      <td>3.424854e+06</td>\n",
       "      <td>0.366228</td>\n",
       "    </tr>\n",
       "    <tr>\n",
       "      <th>min</th>\n",
       "      <td>0.000000</td>\n",
       "      <td>1.000000</td>\n",
       "      <td>1.000000</td>\n",
       "      <td>1.000000</td>\n",
       "      <td>1.000000</td>\n",
       "      <td>0.170000</td>\n",
       "      <td>0.000000</td>\n",
       "      <td>0.000000</td>\n",
       "      <td>0.000000</td>\n",
       "      <td>1.000000</td>\n",
       "      <td>0.000000e+00</td>\n",
       "      <td>0.000000</td>\n",
       "    </tr>\n",
       "    <tr>\n",
       "      <th>25%</th>\n",
       "      <td>0.000000</td>\n",
       "      <td>2.000000</td>\n",
       "      <td>129.000000</td>\n",
       "      <td>1.000000</td>\n",
       "      <td>1.000000</td>\n",
       "      <td>22.000000</td>\n",
       "      <td>0.000000</td>\n",
       "      <td>0.000000</td>\n",
       "      <td>7.910400</td>\n",
       "      <td>1.000000</td>\n",
       "      <td>1.742100e+04</td>\n",
       "      <td>0.000000</td>\n",
       "    </tr>\n",
       "    <tr>\n",
       "      <th>50%</th>\n",
       "      <td>0.000000</td>\n",
       "      <td>3.000000</td>\n",
       "      <td>277.000000</td>\n",
       "      <td>1.000000</td>\n",
       "      <td>1.000000</td>\n",
       "      <td>28.425581</td>\n",
       "      <td>0.000000</td>\n",
       "      <td>0.000000</td>\n",
       "      <td>14.454200</td>\n",
       "      <td>1.000000</td>\n",
       "      <td>1.135100e+05</td>\n",
       "      <td>0.000000</td>\n",
       "    </tr>\n",
       "    <tr>\n",
       "      <th>75%</th>\n",
       "      <td>1.000000</td>\n",
       "      <td>3.000000</td>\n",
       "      <td>460.500000</td>\n",
       "      <td>3.000000</td>\n",
       "      <td>2.000000</td>\n",
       "      <td>36.888889</td>\n",
       "      <td>1.000000</td>\n",
       "      <td>0.000000</td>\n",
       "      <td>31.000000</td>\n",
       "      <td>2.000000</td>\n",
       "      <td>3.474650e+05</td>\n",
       "      <td>0.000000</td>\n",
       "    </tr>\n",
       "    <tr>\n",
       "      <th>max</th>\n",
       "      <td>1.000000</td>\n",
       "      <td>3.000000</td>\n",
       "      <td>667.000000</td>\n",
       "      <td>17.000000</td>\n",
       "      <td>2.000000</td>\n",
       "      <td>80.000000</td>\n",
       "      <td>8.000000</td>\n",
       "      <td>6.000000</td>\n",
       "      <td>512.329200</td>\n",
       "      <td>3.000000</td>\n",
       "      <td>2.310129e+07</td>\n",
       "      <td>1.000000</td>\n",
       "    </tr>\n",
       "  </tbody>\n",
       "</table>\n",
       "</div>"
      ],
      "text/plain": [
       "         Survived      Pclass    LastName       Title         Sex         Age  \\\n",
       "count  891.000000  891.000000  891.000000  891.000000  891.000000  891.000000   \n",
       "mean     0.383838    2.308642  297.608305    1.936027    1.352413   29.581787   \n",
       "std      0.486592    0.836071  194.444043    1.725341    0.477990   13.573092   \n",
       "min      0.000000    1.000000    1.000000    1.000000    1.000000    0.170000   \n",
       "25%      0.000000    2.000000  129.000000    1.000000    1.000000   22.000000   \n",
       "50%      0.000000    3.000000  277.000000    1.000000    1.000000   28.425581   \n",
       "75%      1.000000    3.000000  460.500000    3.000000    2.000000   36.888889   \n",
       "max      1.000000    3.000000  667.000000   17.000000    2.000000   80.000000   \n",
       "\n",
       "            SibSp       Parch        Fare    Embarked  TicketNumber  \\\n",
       "count  891.000000  891.000000  891.000000  891.000000  8.910000e+02   \n",
       "mean     0.523008    0.381594   32.204208    1.361392  7.546827e+05   \n",
       "std      1.102743    0.806057   49.693429    0.635673  3.424854e+06   \n",
       "min      0.000000    0.000000    0.000000    1.000000  0.000000e+00   \n",
       "25%      0.000000    0.000000    7.910400    1.000000  1.742100e+04   \n",
       "50%      0.000000    0.000000   14.454200    1.000000  1.135100e+05   \n",
       "75%      1.000000    0.000000   31.000000    2.000000  3.474650e+05   \n",
       "max      8.000000    6.000000  512.329200    3.000000  2.310129e+07   \n",
       "\n",
       "        OtherName  \n",
       "count  891.000000  \n",
       "mean     0.159371  \n",
       "std      0.366228  \n",
       "min      0.000000  \n",
       "25%      0.000000  \n",
       "50%      0.000000  \n",
       "75%      0.000000  \n",
       "max      1.000000  "
      ]
     },
     "execution_count": 3,
     "metadata": {},
     "output_type": "execute_result"
    }
   ],
   "source": [
    "train.describe()"
   ]
  },
  {
   "cell_type": "code",
   "execution_count": 4,
   "metadata": {},
   "outputs": [
    {
     "data": {
      "text/html": [
       "<div>\n",
       "<style scoped>\n",
       "    .dataframe tbody tr th:only-of-type {\n",
       "        vertical-align: middle;\n",
       "    }\n",
       "\n",
       "    .dataframe tbody tr th {\n",
       "        vertical-align: top;\n",
       "    }\n",
       "\n",
       "    .dataframe thead th {\n",
       "        text-align: right;\n",
       "    }\n",
       "</style>\n",
       "<table border=\"1\" class=\"dataframe\">\n",
       "  <thead>\n",
       "    <tr style=\"text-align: right;\">\n",
       "      <th></th>\n",
       "      <th>Pclass</th>\n",
       "      <th>LastName</th>\n",
       "      <th>Title</th>\n",
       "      <th>Sex</th>\n",
       "      <th>Age</th>\n",
       "      <th>SibSp</th>\n",
       "      <th>Parch</th>\n",
       "      <th>Fare</th>\n",
       "      <th>Embarked</th>\n",
       "      <th>TicketNumber</th>\n",
       "      <th>OtherName</th>\n",
       "    </tr>\n",
       "    <tr>\n",
       "      <th>PassengerId</th>\n",
       "      <th></th>\n",
       "      <th></th>\n",
       "      <th></th>\n",
       "      <th></th>\n",
       "      <th></th>\n",
       "      <th></th>\n",
       "      <th></th>\n",
       "      <th></th>\n",
       "      <th></th>\n",
       "      <th></th>\n",
       "      <th></th>\n",
       "    </tr>\n",
       "  </thead>\n",
       "  <tbody>\n",
       "    <tr>\n",
       "      <th>892</th>\n",
       "      <td>3</td>\n",
       "      <td>263</td>\n",
       "      <td>1</td>\n",
       "      <td>1</td>\n",
       "      <td>34.5</td>\n",
       "      <td>0</td>\n",
       "      <td>0</td>\n",
       "      <td>7.8292</td>\n",
       "      <td>3</td>\n",
       "      <td>330911</td>\n",
       "      <td>0</td>\n",
       "    </tr>\n",
       "    <tr>\n",
       "      <th>893</th>\n",
       "      <td>3</td>\n",
       "      <td>668</td>\n",
       "      <td>2</td>\n",
       "      <td>2</td>\n",
       "      <td>47.0</td>\n",
       "      <td>1</td>\n",
       "      <td>0</td>\n",
       "      <td>7.0000</td>\n",
       "      <td>1</td>\n",
       "      <td>363272</td>\n",
       "      <td>1</td>\n",
       "    </tr>\n",
       "    <tr>\n",
       "      <th>894</th>\n",
       "      <td>2</td>\n",
       "      <td>669</td>\n",
       "      <td>1</td>\n",
       "      <td>1</td>\n",
       "      <td>62.0</td>\n",
       "      <td>0</td>\n",
       "      <td>0</td>\n",
       "      <td>9.6875</td>\n",
       "      <td>3</td>\n",
       "      <td>240276</td>\n",
       "      <td>0</td>\n",
       "    </tr>\n",
       "    <tr>\n",
       "      <th>895</th>\n",
       "      <td>3</td>\n",
       "      <td>670</td>\n",
       "      <td>1</td>\n",
       "      <td>1</td>\n",
       "      <td>27.0</td>\n",
       "      <td>0</td>\n",
       "      <td>0</td>\n",
       "      <td>8.6625</td>\n",
       "      <td>1</td>\n",
       "      <td>315154</td>\n",
       "      <td>0</td>\n",
       "    </tr>\n",
       "    <tr>\n",
       "      <th>896</th>\n",
       "      <td>3</td>\n",
       "      <td>397</td>\n",
       "      <td>2</td>\n",
       "      <td>2</td>\n",
       "      <td>22.0</td>\n",
       "      <td>1</td>\n",
       "      <td>1</td>\n",
       "      <td>12.2875</td>\n",
       "      <td>1</td>\n",
       "      <td>3101298</td>\n",
       "      <td>1</td>\n",
       "    </tr>\n",
       "  </tbody>\n",
       "</table>\n",
       "</div>"
      ],
      "text/plain": [
       "             Pclass  LastName  Title  Sex   Age  SibSp  Parch     Fare  \\\n",
       "PassengerId                                                              \n",
       "892               3       263      1    1  34.5      0      0   7.8292   \n",
       "893               3       668      2    2  47.0      1      0   7.0000   \n",
       "894               2       669      1    1  62.0      0      0   9.6875   \n",
       "895               3       670      1    1  27.0      0      0   8.6625   \n",
       "896               3       397      2    2  22.0      1      1  12.2875   \n",
       "\n",
       "             Embarked  TicketNumber  OtherName  \n",
       "PassengerId                                     \n",
       "892                 3        330911          0  \n",
       "893                 1        363272          1  \n",
       "894                 3        240276          0  \n",
       "895                 1        315154          0  \n",
       "896                 1       3101298          1  "
      ]
     },
     "execution_count": 4,
     "metadata": {},
     "output_type": "execute_result"
    }
   ],
   "source": [
    "test = pd.read_csv(\"data/new_test.csv\", index_col=0)\n",
    "test.head(5)"
   ]
  },
  {
   "cell_type": "code",
   "execution_count": 5,
   "metadata": {},
   "outputs": [
    {
     "data": {
      "text/html": [
       "<div>\n",
       "<style scoped>\n",
       "    .dataframe tbody tr th:only-of-type {\n",
       "        vertical-align: middle;\n",
       "    }\n",
       "\n",
       "    .dataframe tbody tr th {\n",
       "        vertical-align: top;\n",
       "    }\n",
       "\n",
       "    .dataframe thead th {\n",
       "        text-align: right;\n",
       "    }\n",
       "</style>\n",
       "<table border=\"1\" class=\"dataframe\">\n",
       "  <thead>\n",
       "    <tr style=\"text-align: right;\">\n",
       "      <th></th>\n",
       "      <th>Pclass</th>\n",
       "      <th>LastName</th>\n",
       "      <th>Title</th>\n",
       "      <th>Sex</th>\n",
       "      <th>Age</th>\n",
       "      <th>SibSp</th>\n",
       "      <th>Parch</th>\n",
       "      <th>Fare</th>\n",
       "      <th>Embarked</th>\n",
       "      <th>TicketNumber</th>\n",
       "      <th>OtherName</th>\n",
       "    </tr>\n",
       "  </thead>\n",
       "  <tbody>\n",
       "    <tr>\n",
       "      <th>count</th>\n",
       "      <td>418.000000</td>\n",
       "      <td>418.000000</td>\n",
       "      <td>418.000000</td>\n",
       "      <td>418.000000</td>\n",
       "      <td>418.000000</td>\n",
       "      <td>418.000000</td>\n",
       "      <td>418.000000</td>\n",
       "      <td>418.000000</td>\n",
       "      <td>418.000000</td>\n",
       "      <td>4.180000e+02</td>\n",
       "      <td>418.000000</td>\n",
       "    </tr>\n",
       "    <tr>\n",
       "      <th>mean</th>\n",
       "      <td>2.265550</td>\n",
       "      <td>553.385167</td>\n",
       "      <td>1.856459</td>\n",
       "      <td>1.363636</td>\n",
       "      <td>30.048832</td>\n",
       "      <td>0.447368</td>\n",
       "      <td>0.392344</td>\n",
       "      <td>35.556878</td>\n",
       "      <td>1.464115</td>\n",
       "      <td>4.516819e+05</td>\n",
       "      <td>0.186603</td>\n",
       "    </tr>\n",
       "    <tr>\n",
       "      <th>std</th>\n",
       "      <td>0.841838</td>\n",
       "      <td>273.607190</td>\n",
       "      <td>1.581812</td>\n",
       "      <td>0.481622</td>\n",
       "      <td>13.329003</td>\n",
       "      <td>0.896760</td>\n",
       "      <td>0.981429</td>\n",
       "      <td>55.859000</td>\n",
       "      <td>0.685516</td>\n",
       "      <td>2.288015e+06</td>\n",
       "      <td>0.390059</td>\n",
       "    </tr>\n",
       "    <tr>\n",
       "      <th>min</th>\n",
       "      <td>1.000000</td>\n",
       "      <td>2.000000</td>\n",
       "      <td>1.000000</td>\n",
       "      <td>1.000000</td>\n",
       "      <td>0.170000</td>\n",
       "      <td>0.000000</td>\n",
       "      <td>0.000000</td>\n",
       "      <td>0.000000</td>\n",
       "      <td>1.000000</td>\n",
       "      <td>2.000000e+00</td>\n",
       "      <td>0.000000</td>\n",
       "    </tr>\n",
       "    <tr>\n",
       "      <th>25%</th>\n",
       "      <td>1.000000</td>\n",
       "      <td>315.250000</td>\n",
       "      <td>1.000000</td>\n",
       "      <td>1.000000</td>\n",
       "      <td>22.000000</td>\n",
       "      <td>0.000000</td>\n",
       "      <td>0.000000</td>\n",
       "      <td>7.895800</td>\n",
       "      <td>1.000000</td>\n",
       "      <td>1.359900e+04</td>\n",
       "      <td>0.000000</td>\n",
       "    </tr>\n",
       "    <tr>\n",
       "      <th>50%</th>\n",
       "      <td>3.000000</td>\n",
       "      <td>684.500000</td>\n",
       "      <td>1.000000</td>\n",
       "      <td>1.000000</td>\n",
       "      <td>28.425581</td>\n",
       "      <td>0.000000</td>\n",
       "      <td>0.000000</td>\n",
       "      <td>14.454200</td>\n",
       "      <td>1.000000</td>\n",
       "      <td>5.328650e+04</td>\n",
       "      <td>0.000000</td>\n",
       "    </tr>\n",
       "    <tr>\n",
       "      <th>75%</th>\n",
       "      <td>3.000000</td>\n",
       "      <td>777.750000</td>\n",
       "      <td>3.000000</td>\n",
       "      <td>2.000000</td>\n",
       "      <td>37.000000</td>\n",
       "      <td>1.000000</td>\n",
       "      <td>0.000000</td>\n",
       "      <td>31.471875</td>\n",
       "      <td>2.000000</td>\n",
       "      <td>3.457740e+05</td>\n",
       "      <td>0.000000</td>\n",
       "    </tr>\n",
       "    <tr>\n",
       "      <th>max</th>\n",
       "      <td>3.000000</td>\n",
       "      <td>875.000000</td>\n",
       "      <td>18.000000</td>\n",
       "      <td>2.000000</td>\n",
       "      <td>76.000000</td>\n",
       "      <td>8.000000</td>\n",
       "      <td>9.000000</td>\n",
       "      <td>512.329200</td>\n",
       "      <td>3.000000</td>\n",
       "      <td>2.310129e+07</td>\n",
       "      <td>1.000000</td>\n",
       "    </tr>\n",
       "  </tbody>\n",
       "</table>\n",
       "</div>"
      ],
      "text/plain": [
       "           Pclass    LastName       Title         Sex         Age       SibSp  \\\n",
       "count  418.000000  418.000000  418.000000  418.000000  418.000000  418.000000   \n",
       "mean     2.265550  553.385167    1.856459    1.363636   30.048832    0.447368   \n",
       "std      0.841838  273.607190    1.581812    0.481622   13.329003    0.896760   \n",
       "min      1.000000    2.000000    1.000000    1.000000    0.170000    0.000000   \n",
       "25%      1.000000  315.250000    1.000000    1.000000   22.000000    0.000000   \n",
       "50%      3.000000  684.500000    1.000000    1.000000   28.425581    0.000000   \n",
       "75%      3.000000  777.750000    3.000000    2.000000   37.000000    1.000000   \n",
       "max      3.000000  875.000000   18.000000    2.000000   76.000000    8.000000   \n",
       "\n",
       "            Parch        Fare    Embarked  TicketNumber   OtherName  \n",
       "count  418.000000  418.000000  418.000000  4.180000e+02  418.000000  \n",
       "mean     0.392344   35.556878    1.464115  4.516819e+05    0.186603  \n",
       "std      0.981429   55.859000    0.685516  2.288015e+06    0.390059  \n",
       "min      0.000000    0.000000    1.000000  2.000000e+00    0.000000  \n",
       "25%      0.000000    7.895800    1.000000  1.359900e+04    0.000000  \n",
       "50%      0.000000   14.454200    1.000000  5.328650e+04    0.000000  \n",
       "75%      0.000000   31.471875    2.000000  3.457740e+05    0.000000  \n",
       "max      9.000000  512.329200    3.000000  2.310129e+07    1.000000  "
      ]
     },
     "execution_count": 5,
     "metadata": {},
     "output_type": "execute_result"
    }
   ],
   "source": [
    "test.describe()"
   ]
  },
  {
   "cell_type": "markdown",
   "metadata": {},
   "source": [
    "Feature columns from our data:"
   ]
  },
  {
   "cell_type": "code",
   "execution_count": 6,
   "metadata": {},
   "outputs": [],
   "source": [
    "feature_cols = ['Pclass','LastName','Title','Sex','Age','SibSp','Parch','Fare','Embarked','TicketNumber','OtherName']"
   ]
  },
  {
   "cell_type": "markdown",
   "metadata": {},
   "source": [
    "## Decision Tree Classification (with default settings)"
   ]
  },
  {
   "cell_type": "markdown",
   "metadata": {},
   "source": [
    "Using the new_test and new_train CSV files, predict the Titanic survival with default model settings."
   ]
  },
  {
   "cell_type": "code",
   "execution_count": 7,
   "metadata": {},
   "outputs": [],
   "source": [
    "from sklearn import tree "
   ]
  },
  {
   "cell_type": "code",
   "execution_count": 8,
   "metadata": {},
   "outputs": [],
   "source": [
    "model = tree.DecisionTreeClassifier(random_state=42)\n",
    "# Prepare data for model fitting\n",
    "X = train.loc[:, feature_cols]\n",
    "y = train.Survived"
   ]
  },
  {
   "cell_type": "code",
   "execution_count": 9,
   "metadata": {},
   "outputs": [
    {
     "data": {
      "text/plain": [
       "DecisionTreeClassifier(class_weight=None, criterion='gini', max_depth=None,\n",
       "            max_features=None, max_leaf_nodes=None,\n",
       "            min_impurity_decrease=0.0, min_impurity_split=None,\n",
       "            min_samples_leaf=1, min_samples_split=2,\n",
       "            min_weight_fraction_leaf=0.0, presort=False, random_state=42,\n",
       "            splitter='best')"
      ]
     },
     "execution_count": 9,
     "metadata": {},
     "output_type": "execute_result"
    }
   ],
   "source": [
    "# Fit a model\n",
    "model.fit(X, y)"
   ]
  },
  {
   "cell_type": "code",
   "execution_count": 10,
   "metadata": {
    "scrolled": true
   },
   "outputs": [],
   "source": [
    "X_test = test.loc[:, feature_cols]\n",
    "Survived = model.predict(X_test)"
   ]
  },
  {
   "cell_type": "code",
   "execution_count": 11,
   "metadata": {},
   "outputs": [],
   "source": [
    "test[\"Survived\"] = Survived"
   ]
  },
  {
   "cell_type": "code",
   "execution_count": 12,
   "metadata": {},
   "outputs": [],
   "source": [
    "test.drop(['Pclass','LastName','Title','Sex','Age','SibSp','Parch','Fare','Embarked','TicketNumber','OtherName'],\n",
    "          axis=1, inplace=True)"
   ]
  },
  {
   "cell_type": "code",
   "execution_count": 13,
   "metadata": {},
   "outputs": [],
   "source": [
    "test.to_csv(\"data/submission.csv\", sep=',')"
   ]
  },
  {
   "cell_type": "markdown",
   "metadata": {},
   "source": [
    "Result of the 1st submission is not bad:"
   ]
  },
  {
   "cell_type": "markdown",
   "metadata": {},
   "source": [
    "![](img/submission_01.png)"
   ]
  },
  {
   "cell_type": "markdown",
   "metadata": {},
   "source": [
    "But I am curious if it can be improved if we applied better hyperparameters."
   ]
  },
  {
   "cell_type": "markdown",
   "metadata": {},
   "source": [
    "## Decision Tree Classification with optimal hyperparameters\n",
    "### Identified using 5-fold Cross Validation"
   ]
  },
  {
   "cell_type": "markdown",
   "metadata": {},
   "source": [
    "Let's start by re-importing the train and test data sets so we have a clean, new data set."
   ]
  },
  {
   "cell_type": "code",
   "execution_count": 14,
   "metadata": {},
   "outputs": [],
   "source": [
    "train = pd.read_csv(\"data/new_train.csv\", index_col=0)\n",
    "test = pd.read_csv(\"data/new_test.csv\", index_col=0)\n",
    "X = train.loc[:, feature_cols]\n",
    "y = train.Survived"
   ]
  },
  {
   "cell_type": "markdown",
   "metadata": {},
   "source": [
    "### max_depth"
   ]
  },
  {
   "cell_type": "markdown",
   "metadata": {},
   "source": [
    "The first parameter we will optimize is `max_depth`. Let's test 40 possible values from 1 to 40 for `max_depth` to identify the ideal value."
   ]
  },
  {
   "cell_type": "code",
   "execution_count": 15,
   "metadata": {},
   "outputs": [
    {
     "name": "stdout",
     "output_type": "stream",
     "text": [
      "Value of max_depth with the best accuracy: 3\n",
      "Performance on test split: 0.8603351955307262\n"
     ]
    },
    {
     "data": {
      "image/png": "[encoded data removed]",
      "text/plain": [
       "<Figure size 432x288 with 1 Axes>"
      ]
     },
     "metadata": {},
     "output_type": "display_data"
    }
   ],
   "source": [
    "from sklearn.model_selection import train_test_split, cross_val_score\n",
    "\n",
    "max_depth = np.arange(1,41,1)\n",
    "scores = []\n",
    "\n",
    "# split the data set into 80% training data and 20% test data\n",
    "Xtrain, Xtest, ytrain, ytest = train_test_split(X,y,test_size=0.2)\n",
    "\n",
    "for i in max_depth:\n",
    "    model = tree.DecisionTreeClassifier(max_depth=i, random_state=42)\n",
    "    avg_score = np.mean(cross_val_score(model, Xtrain, ytrain, cv=5))\n",
    "    scores.append(avg_score)\n",
    "    \n",
    "# plotting validation performance\n",
    "plt.plot(max_depth, scores)\n",
    "plt.xlabel(\"Max Depth\")\n",
    "plt.ylabel(\"Classification accuracy\")\n",
    "\n",
    "# Use best value of max_depth and report performance on the test split\n",
    "best_max_depth = max_depth[np.argmax(scores)]\n",
    "best_model = tree.DecisionTreeClassifier(max_depth=best_max_depth, random_state=42)\n",
    "best_model.fit(Xtrain,ytrain)\n",
    "\n",
    "# reporting best accuracy\n",
    "print(\"Value of max_depth with the best accuracy:\", best_max_depth)\n",
    "print(\"Performance on test split:\", best_model.score(Xtest,ytest))"
   ]
  },
  {
   "cell_type": "markdown",
   "metadata": {},
   "source": [
    "### min_samples_split"
   ]
  },
  {
   "cell_type": "markdown",
   "metadata": {},
   "source": [
    "The second parameter we will optimize is `min_samples_split`. Let's again test 40 possible values but this time, from 2 to 160 for `min_samples_split` to identify the ideal value."
   ]
  },
  {
   "cell_type": "code",
   "execution_count": 16,
   "metadata": {},
   "outputs": [
    {
     "name": "stdout",
     "output_type": "stream",
     "text": [
      "Value of min_samples_split with the best accuracy: 86\n",
      "Performance on test split: 0.7988826815642458\n"
     ]
    },
    {
     "data": {
      "image/png": "[encoded data removed]",
      "text/plain": [
       "<Figure size 432x288 with 1 Axes>"
      ]
     },
     "metadata": {},
     "output_type": "display_data"
    }
   ],
   "source": [
    "min_samples_split = np.arange(2,160,4)\n",
    "scores = []\n",
    "\n",
    "# split the data set into 80% training data and 20% test data\n",
    "Xtrain, Xtest, ytrain, ytest = train_test_split(X,y,test_size=0.2)\n",
    "\n",
    "for i in min_samples_split:\n",
    "    model = tree.DecisionTreeClassifier(min_samples_split=i, random_state=42)\n",
    "    avg_score = np.mean(cross_val_score(model, Xtrain, ytrain, cv=5))\n",
    "    scores.append(avg_score)\n",
    "    \n",
    "# plotting validation performance\n",
    "plt.plot(min_samples_split, scores)\n",
    "plt.xlabel(\"Min Samples Split\")\n",
    "plt.ylabel(\"Classification accuracy\")\n",
    "\n",
    "# Use best value of min_samples_split and report performance on the test split\n",
    "best_min_samples_split = min_samples_split[np.argmax(scores)]\n",
    "best_model = tree.DecisionTreeClassifier(min_samples_split=best_min_samples_split, random_state=42)\n",
    "best_model.fit(Xtrain,ytrain)\n",
    "\n",
    "# reporting best accuracy\n",
    "print(\"Value of min_samples_split with the best accuracy:\", best_min_samples_split)\n",
    "print(\"Performance on test split:\", best_model.score(Xtest,ytest))"
   ]
  },
  {
   "cell_type": "markdown",
   "metadata": {},
   "source": [
    "### min_samples_leaf"
   ]
  },
  {
   "cell_type": "markdown",
   "metadata": {},
   "source": [
    "The third parameter we will optimize is `min_samples_leaf`. Similar to `max_depth`, let's test 40 possible values from 1 to 40 for `min_samples_leaf` to identify the ideal value."
   ]
  },
  {
   "cell_type": "code",
   "execution_count": 17,
   "metadata": {},
   "outputs": [
    {
     "name": "stdout",
     "output_type": "stream",
     "text": [
      "Value of min_samples_leaf with the best accuracy: 10\n",
      "Performance on test split: 0.8324022346368715\n"
     ]
    },
    {
     "data": {
      "image/png": "[encoded data removed]",
      "text/plain": [
       "<Figure size 432x288 with 1 Axes>"
      ]
     },
     "metadata": {},
     "output_type": "display_data"
    }
   ],
   "source": [
    "min_samples_leaf = np.arange(1,41,1)\n",
    "scores = []\n",
    "\n",
    "# split the data set into 80% training data and 20% test data\n",
    "Xtrain, Xtest, ytrain, ytest = train_test_split(X,y,test_size=0.2)\n",
    "\n",
    "for i in min_samples_leaf:\n",
    "    model = tree.DecisionTreeClassifier(min_samples_leaf=i, random_state=42)\n",
    "    avg_score = np.mean(cross_val_score(model, Xtrain, ytrain, cv=5))\n",
    "    scores.append(avg_score)\n",
    "    \n",
    "# plotting validation performance\n",
    "plt.plot(min_samples_leaf, scores)\n",
    "plt.xlabel(\"Min Samples Leaf\")\n",
    "plt.ylabel(\"Classification accuracy\")\n",
    "\n",
    "# Use best value of min_samples_leaf and report performance on the test split\n",
    "best_min_samples_leaf = min_samples_leaf[np.argmax(scores)]\n",
    "best_model = tree.DecisionTreeClassifier(min_samples_leaf=best_min_samples_leaf, random_state=42)\n",
    "best_model.fit(Xtrain,ytrain)\n",
    "\n",
    "# reporting best accuracy\n",
    "print(\"Value of min_samples_leaf with the best accuracy:\", best_min_samples_leaf)\n",
    "print(\"Performance on test split:\", best_model.score(Xtest,ytest))"
   ]
  },
  {
   "cell_type": "markdown",
   "metadata": {},
   "source": [
    "### max_features"
   ]
  },
  {
   "cell_type": "markdown",
   "metadata": {},
   "source": [
    "The final parameter we will optimize is `max_features`"
   ]
  },
  {
   "cell_type": "code",
   "execution_count": 18,
   "metadata": {},
   "outputs": [
    {
     "name": "stdout",
     "output_type": "stream",
     "text": [
      "Value of max_features with the best accuracy: 10\n",
      "Performance on test split: 0.7821229050279329\n"
     ]
    },
    {
     "data": {
      "image/png": "[encoded data removed]",
      "text/plain": [
       "<Figure size 432x288 with 1 Axes>"
      ]
     },
     "metadata": {},
     "output_type": "display_data"
    }
   ],
   "source": [
    "max_features = np.arange(1,len(feature_cols),1)\n",
    "scores = []\n",
    "\n",
    "# split the data set into 80% training data and 20% test data\n",
    "Xtrain, Xtest, ytrain, ytest = train_test_split(X,y,test_size=0.2)\n",
    "\n",
    "for i in max_features:\n",
    "    model = tree.DecisionTreeClassifier(max_features=i, random_state=42)\n",
    "    avg_score = np.mean(cross_val_score(model, Xtrain, ytrain, cv=5))\n",
    "    scores.append(avg_score)\n",
    "    \n",
    "# plotting validation performance\n",
    "plt.plot(max_features, scores)\n",
    "plt.xlabel(\"Max Features\")\n",
    "plt.ylabel(\"Classification accuracy\")\n",
    "\n",
    "# Use best value of max_features and report performance on the test split\n",
    "best_max_features = max_features[np.argmax(scores)]\n",
    "best_model = tree.DecisionTreeClassifier(max_features=best_max_features, random_state=42)\n",
    "best_model.fit(Xtrain,ytrain)\n",
    "\n",
    "# reporting best accuracy\n",
    "print(\"Value of max_features with the best accuracy:\", best_max_features)\n",
    "print(\"Performance on test split:\", best_model.score(Xtest,ytest))"
   ]
  },
  {
   "cell_type": "markdown",
   "metadata": {},
   "source": [
    "Let's take our _best_ optimized hyperparameters and create the _best_ model. Then, fit the model and make preditions."
   ]
  },
  {
   "cell_type": "code",
   "execution_count": 19,
   "metadata": {},
   "outputs": [],
   "source": [
    "best_model = tree.DecisionTreeClassifier(max_depth = best_max_depth,\n",
    "                                         max_features = best_max_features,\n",
    "                                         min_samples_split = best_min_samples_split,\n",
    "                                         min_samples_leaf = best_min_samples_leaf,\n",
    "                                         random_state=42)"
   ]
  },
  {
   "cell_type": "code",
   "execution_count": 20,
   "metadata": {},
   "outputs": [
    {
     "data": {
      "text/plain": [
       "DecisionTreeClassifier(class_weight=None, criterion='gini', max_depth=3,\n",
       "            max_features=10, max_leaf_nodes=None,\n",
       "            min_impurity_decrease=0.0, min_impurity_split=None,\n",
       "            min_samples_leaf=10, min_samples_split=86,\n",
       "            min_weight_fraction_leaf=0.0, presort=False, random_state=42,\n",
       "            splitter='best')"
      ]
     },
     "execution_count": 20,
     "metadata": {},
     "output_type": "execute_result"
    }
   ],
   "source": [
    "# Fit a model\n",
    "best_model.fit(X, y)"
   ]
  },
  {
   "cell_type": "code",
   "execution_count": 21,
   "metadata": {
    "scrolled": true
   },
   "outputs": [],
   "source": [
    "X_test = test.loc[:, feature_cols]\n",
    "Survived = best_model.predict(X_test)"
   ]
  },
  {
   "cell_type": "code",
   "execution_count": 22,
   "metadata": {},
   "outputs": [],
   "source": [
    "test[\"Survived\"] = Survived"
   ]
  },
  {
   "cell_type": "markdown",
   "metadata": {},
   "source": [
    "Prepare the predictions for submission."
   ]
  },
  {
   "cell_type": "code",
   "execution_count": 23,
   "metadata": {},
   "outputs": [],
   "source": [
    "test.drop(['Pclass','LastName','Title','Sex','Age','SibSp','Parch','Fare','Embarked','TicketNumber','OtherName'],\n",
    "          axis=1, inplace=True)"
   ]
  },
  {
   "cell_type": "code",
   "execution_count": 24,
   "metadata": {},
   "outputs": [],
   "source": [
    "test.to_csv(\"data/submission.csv\", sep=',')"
   ]
  },
  {
   "cell_type": "markdown",
   "metadata": {},
   "source": [
    "The results are an improvement:"
   ]
  },
  {
   "cell_type": "markdown",
   "metadata": {},
   "source": [
    "![](img/submission_02.png)"
   ]
  },
  {
   "cell_type": "markdown",
   "metadata": {},
   "source": [
    "We can observe a 3.35% improvement of accuracy using optimized hyperparameters."
   ]
  },
  {
   "cell_type": "markdown",
   "metadata": {},
   "source": [
    "## Random Forest"
   ]
  },
  {
   "cell_type": "markdown",
   "metadata": {},
   "source": [
    "A combination of multiple decision tree classifiers creates a very powerful classifier -- Random Forest. Let's predict using it now!"
   ]
  },
  {
   "cell_type": "code",
   "execution_count": 25,
   "metadata": {},
   "outputs": [
    {
     "name": "stderr",
     "output_type": "stream",
     "text": [
      "C:\\Users\\talha\\Anaconda3\\lib\\site-packages\\sklearn\\ensemble\\weight_boosting.py:29: DeprecationWarning: numpy.core.umath_tests is an internal NumPy module and should not be imported. It will be removed in a future NumPy release.\n",
      "  from numpy.core.umath_tests import inner1d\n"
     ]
    }
   ],
   "source": [
    "from sklearn.ensemble import RandomForestClassifier"
   ]
  },
  {
   "cell_type": "code",
   "execution_count": 26,
   "metadata": {},
   "outputs": [],
   "source": [
    "train = pd.read_csv(\"data/new_train.csv\", index_col=0)\n",
    "test = pd.read_csv(\"data/new_test.csv\", index_col=0)\n",
    "X = train.loc[:, feature_cols]\n",
    "y = train.Survived"
   ]
  },
  {
   "cell_type": "markdown",
   "metadata": {},
   "source": [
    "Let's do a multi-dimensional search for ideal hyperparameters."
   ]
  },
  {
   "cell_type": "code",
   "execution_count": 27,
   "metadata": {},
   "outputs": [
    {
     "name": "stdout",
     "output_type": "stream",
     "text": [
      "n_estimators: 46\n",
      "max_depth: 37\n",
      "max_features: 1\n",
      "Generated a test accuracy of 0.8770949720670391\n"
     ]
    }
   ],
   "source": [
    "# hyperparameters\n",
    "n_estimators = np.arange(2,100,4)\n",
    "max_depth = np.arange(1,41,1)\n",
    "max_features = np.arange(1,len(feature_cols),1)\n",
    "\n",
    "# split the data set into 80% training data and 20% test data\n",
    "Xtrain, Xtest, ytrain, ytest = train_test_split(X,y,test_size=0.2)\n",
    "\n",
    "# accuracy\n",
    "train_accuracy = np.zeros((len(n_estimators),len(max_depth),len(max_features)))\n",
    "test_accuracy = np.zeros((len(n_estimators),len(max_depth),len(max_features)))\n",
    "\n",
    "# search for best hyperparameters\n",
    "for i,ne in enumerate(n_estimators):\n",
    "    for j,md in enumerate(max_depth):\n",
    "        for k,mf in enumerate(max_features):\n",
    "            model = RandomForestClassifier()\n",
    "            model.fit(Xtrain,ytrain)\n",
    "            train_accuracy[i,j,k] = model.score(Xtrain,ytrain)\n",
    "            test_accuracy[i,j,k] = model.score(Xtest,ytest)\n",
    "            \n",
    "# Identify best value of hyperparameters\n",
    "ideal_hp_index = np.unravel_index(np.argmax(test_accuracy, axis=None), test_accuracy.shape)\n",
    "n_est = n_estimators[ideal_hp_index[0]]\n",
    "max_dep = max_depth[ideal_hp_index[1]]\n",
    "max_feat = max_features[ideal_hp_index[2]]\n",
    "\n",
    "# reporting best accuracy\n",
    "print(\"n_estimators:\",n_est)\n",
    "print(\"max_depth:\",max_dep)\n",
    "print(\"max_features:\",max_feat)\n",
    "print(\"Generated a test accuracy of\", test_accuracy[ideal_hp_index])"
   ]
  },
  {
   "cell_type": "code",
   "execution_count": 28,
   "metadata": {},
   "outputs": [],
   "source": [
    "best_random_forest = RandomForestClassifier(n_estimators=n_est,\n",
    "                                           max_features = max_feat,\n",
    "                                           max_depth = max_dep)"
   ]
  },
  {
   "cell_type": "code",
   "execution_count": 29,
   "metadata": {},
   "outputs": [
    {
     "data": {
      "text/plain": [
       "RandomForestClassifier(bootstrap=True, class_weight=None, criterion='gini',\n",
       "            max_depth=37, max_features=1, max_leaf_nodes=None,\n",
       "            min_impurity_decrease=0.0, min_impurity_split=None,\n",
       "            min_samples_leaf=1, min_samples_split=2,\n",
       "            min_weight_fraction_leaf=0.0, n_estimators=46, n_jobs=1,\n",
       "            oob_score=False, random_state=None, verbose=0,\n",
       "            warm_start=False)"
      ]
     },
     "execution_count": 29,
     "metadata": {},
     "output_type": "execute_result"
    }
   ],
   "source": [
    "# Fit a model\n",
    "best_random_forest.fit(X, y)"
   ]
  },
  {
   "cell_type": "code",
   "execution_count": 30,
   "metadata": {},
   "outputs": [],
   "source": [
    "X_test = test.loc[:, feature_cols]\n",
    "Survived = best_random_forest.predict(X_test)"
   ]
  },
  {
   "cell_type": "code",
   "execution_count": 31,
   "metadata": {},
   "outputs": [],
   "source": [
    "test[\"Survived\"] = Survived"
   ]
  },
  {
   "cell_type": "code",
   "execution_count": 32,
   "metadata": {},
   "outputs": [],
   "source": [
    "test.drop(['Pclass','LastName','Title','Sex','Age','SibSp','Parch','Fare','Embarked','TicketNumber','OtherName'],\n",
    "          axis=1, inplace=True)"
   ]
  },
  {
   "cell_type": "code",
   "execution_count": 33,
   "metadata": {},
   "outputs": [],
   "source": [
    "test.to_csv(\"data/submission.csv\", sep=',')"
   ]
  },
  {
   "cell_type": "markdown",
   "metadata": {},
   "source": [
    "![](img/submission_03.png)"
   ]
  }
 ],
 "metadata": {
  "kernelspec": {
   "display_name": "Python 3",
   "language": "python",
   "name": "python3"
  },
  "language_info": {
   "codemirror_mode": {
    "name": "ipython",
    "version": 3
   },
   "file_extension": ".py",
   "mimetype": "text/x-python",
   "name": "python",
   "nbconvert_exporter": "python",
   "pygments_lexer": "ipython3",
   "version": "3.6.5"
  }
 },
 "nbformat": 4,
 "nbformat_minor": 2
}
